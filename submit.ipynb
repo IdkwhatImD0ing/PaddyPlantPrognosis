{
 "cells": [
  {
   "cell_type": "code",
   "execution_count": 4,
   "metadata": {},
   "outputs": [],
   "source": [
    "import tensorflow as tensorflow\n",
    "import matplotlib.pyplot as plt\n",
    "import matplotlib.image as img\n",
    "import pandas as pd\n",
    "from tensorflow.keras import regularizers\n",
    "from sklearn.model_selection import train_test_split\n",
    "from tensorflow import keras\n",
    "import numpy as np\n",
    "from tensorflow.keras import mixed_precision\n",
    "import tensorflow as tf\n",
    "from tensorflow.keras.preprocessing.image import ImageDataGenerator\n",
    "from tensorflow.keras.preprocessing import image_dataset_from_directory\n",
    "import os, os.path\n",
    "import csv\n",
    "import tensorflow_hub as hub\n",
    "from tqdm import tqdm\n",
    "\n",
    "batch_size = 32\n",
    "img_size = 224\n",
    "# Load the savedModel\n",
    "model = tf.keras.models.load_model('Best_points.h5')\n"
   ]
  },
  {
   "cell_type": "code",
   "execution_count": 14,
   "metadata": {},
   "outputs": [],
   "source": [
    "def tta_prediction(model, batch_size, img_size):\n",
    "    test_location = \"dataset/test_images\"\n",
    "    aug_gens = ImageDataGenerator(\n",
    "            featurewise_center=False,\n",
    "            samplewise_center=False,\n",
    "            featurewise_std_normalization=False,\n",
    "            samplewise_std_normalization=False,\n",
    "            zca_whitening=False,\n",
    "            rotation_range=10,\n",
    "            shear_range=0.25,\n",
    "            zoom_range=0.1,\n",
    "            width_shift_range=0.1,\n",
    "            height_shift_range=0.1,\n",
    "            horizontal_flip=True,\n",
    "            preprocessing_function=keras.applications.mobilenet_v2.preprocess_input,\n",
    "    )\n",
    "\n",
    "\n",
    "\n",
    "    tta_steps = 10\n",
    "    predictions = []\n",
    "    for i in tqdm(range(tta_steps)):\n",
    "        preds = model.predict(aug_gens.flow_from_directory(\n",
    "            directory=test_location,\n",
    "            target_size=(img_size, img_size),\n",
    "            batch_size=batch_size,\n",
    "            classes=['.'],\n",
    "            shuffle=False,\n",
    "        ),\n",
    "                              workers=16)\n",
    "        predictions.append(preds)\n",
    "\n",
    "    final_pred = np.mean(predictions, axis=0)\n",
    "    return final_pred\n",
    "\n",
    "def generate_augmented_images(batch_size, img_size):\n",
    "\n",
    "    aug_gens = ImageDataGenerator(\n",
    "            featurewise_center=False,\n",
    "            samplewise_center=False,\n",
    "            featurewise_std_normalization=False,\n",
    "            samplewise_std_normalization=False,\n",
    "            zca_whitening=False,\n",
    "            validation_split=0.1,\n",
    "            rotation_range=10,\n",
    "            shear_range=0.25,\n",
    "            zoom_range=0.1,\n",
    "            width_shift_range=0.1,\n",
    "            height_shift_range=0.1,\n",
    "            horizontal_flip=True,\n",
    "            vertical_flip=True,\n",
    "            preprocessing_function=keras.applications.mobilenet_v2.preprocess_input,\n",
    "    )\n",
    "\n",
    "    train_data = aug_gens.flow_from_directory(\"dataset/train_images\",\n",
    "                                              subset=\"training\",\n",
    "                                              seed=1447,\n",
    "                                              target_size=(img_size, img_size),\n",
    "                                              batch_size=batch_size,\n",
    "                                              class_mode=\"categorical\")\n",
    "\n",
    "    val_data = aug_gens.flow_from_directory(\"dataset/train_images\",\n",
    "                                            subset=\"validation\",\n",
    "                                            seed=1447,\n",
    "                                            target_size=(img_size, img_size),\n",
    "                                            batch_size=batch_size,\n",
    "                                            class_mode=\"categorical\")\n",
    "\n",
    "    return train_data, val_data\n",
    "\n",
    "\n",
    "def generate_augmented_test(batch_size, img_size):\n",
    "    test_location = \"dataset/test_images\"\n",
    "    test_data = ImageDataGenerator(\n",
    "        preprocessing_function=keras.applications.mobilenet_v2.preprocess_input).flow_from_directory(\n",
    "            directory=test_location,\n",
    "            target_size=(img_size, img_size),\n",
    "            batch_size=batch_size,\n",
    "            classes=['.'],\n",
    "            shuffle=False,\n",
    "        )\n",
    "    return test_data"
   ]
  },
  {
   "cell_type": "code",
   "execution_count": 19,
   "metadata": {},
   "outputs": [
    {
     "name": "stdout",
     "output_type": "stream",
     "text": [
      "Found 9371 images belonging to 10 classes.\n",
      "Found 1036 images belonging to 10 classes.\n"
     ]
    },
    {
     "name": "stderr",
     "output_type": "stream",
     "text": [
      "  0%|          | 0/10 [00:00<?, ?it/s]"
     ]
    },
    {
     "name": "stdout",
     "output_type": "stream",
     "text": [
      "Found 3469 images belonging to 1 classes.\n",
      "109/109 [==============================] - 5s 45ms/step\n"
     ]
    },
    {
     "name": "stderr",
     "output_type": "stream",
     "text": [
      " 10%|█         | 1/10 [00:05<00:52,  5.86s/it]"
     ]
    },
    {
     "name": "stdout",
     "output_type": "stream",
     "text": [
      "Found 3469 images belonging to 1 classes.\n",
      "109/109 [==============================] - 6s 47ms/step\n"
     ]
    },
    {
     "name": "stderr",
     "output_type": "stream",
     "text": [
      " 20%|██        | 2/10 [00:12<00:48,  6.03s/it]"
     ]
    },
    {
     "name": "stdout",
     "output_type": "stream",
     "text": [
      "Found 3469 images belonging to 1 classes.\n",
      "109/109 [==============================] - 5s 43ms/step\n"
     ]
    },
    {
     "name": "stderr",
     "output_type": "stream",
     "text": [
      " 30%|███       | 3/10 [00:17<00:41,  5.90s/it]"
     ]
    },
    {
     "name": "stdout",
     "output_type": "stream",
     "text": [
      "Found 3469 images belonging to 1 classes.\n",
      "109/109 [==============================] - 5s 41ms/step\n"
     ]
    },
    {
     "name": "stderr",
     "output_type": "stream",
     "text": [
      " 40%|████      | 4/10 [00:23<00:34,  5.74s/it]"
     ]
    },
    {
     "name": "stdout",
     "output_type": "stream",
     "text": [
      "Found 3469 images belonging to 1 classes.\n",
      "109/109 [==============================] - 5s 42ms/step\n"
     ]
    },
    {
     "name": "stderr",
     "output_type": "stream",
     "text": [
      " 50%|█████     | 5/10 [00:28<00:28,  5.63s/it]"
     ]
    },
    {
     "name": "stdout",
     "output_type": "stream",
     "text": [
      "Found 3469 images belonging to 1 classes.\n",
      "109/109 [==============================] - 5s 42ms/step\n"
     ]
    },
    {
     "name": "stderr",
     "output_type": "stream",
     "text": [
      " 60%|██████    | 6/10 [00:34<00:22,  5.57s/it]"
     ]
    },
    {
     "name": "stdout",
     "output_type": "stream",
     "text": [
      "Found 3469 images belonging to 1 classes.\n",
      "109/109 [==============================] - 5s 42ms/step\n"
     ]
    },
    {
     "name": "stderr",
     "output_type": "stream",
     "text": [
      " 70%|███████   | 7/10 [00:39<00:16,  5.54s/it]"
     ]
    },
    {
     "name": "stdout",
     "output_type": "stream",
     "text": [
      "Found 3469 images belonging to 1 classes.\n",
      "109/109 [==============================] - 5s 42ms/step\n"
     ]
    },
    {
     "name": "stderr",
     "output_type": "stream",
     "text": [
      " 80%|████████  | 8/10 [00:45<00:11,  5.50s/it]"
     ]
    },
    {
     "name": "stdout",
     "output_type": "stream",
     "text": [
      "Found 3469 images belonging to 1 classes.\n",
      "109/109 [==============================] - 5s 41ms/step\n"
     ]
    },
    {
     "name": "stderr",
     "output_type": "stream",
     "text": [
      " 90%|█████████ | 9/10 [00:50<00:05,  5.46s/it]"
     ]
    },
    {
     "name": "stdout",
     "output_type": "stream",
     "text": [
      "Found 3469 images belonging to 1 classes.\n",
      "109/109 [==============================] - 5s 42ms/step\n"
     ]
    },
    {
     "name": "stderr",
     "output_type": "stream",
     "text": [
      "100%|██████████| 10/10 [00:55<00:00,  5.59s/it]"
     ]
    },
    {
     "name": "stdout",
     "output_type": "stream",
     "text": [
      "Found 3469 images belonging to 1 classes.\n"
     ]
    },
    {
     "name": "stderr",
     "output_type": "stream",
     "text": [
      "\n"
     ]
    },
    {
     "data": {
      "text/html": [
       "<div>\n",
       "<style scoped>\n",
       "    .dataframe tbody tr th:only-of-type {\n",
       "        vertical-align: middle;\n",
       "    }\n",
       "\n",
       "    .dataframe tbody tr th {\n",
       "        vertical-align: top;\n",
       "    }\n",
       "\n",
       "    .dataframe thead th {\n",
       "        text-align: right;\n",
       "    }\n",
       "</style>\n",
       "<table border=\"1\" class=\"dataframe\">\n",
       "  <thead>\n",
       "    <tr style=\"text-align: right;\">\n",
       "      <th></th>\n",
       "      <th>image_id</th>\n",
       "      <th>label</th>\n",
       "    </tr>\n",
       "  </thead>\n",
       "  <tbody>\n",
       "    <tr>\n",
       "      <th>0</th>\n",
       "      <td>200001.jpg</td>\n",
       "      <td>hispa</td>\n",
       "    </tr>\n",
       "    <tr>\n",
       "      <th>1</th>\n",
       "      <td>200002.jpg</td>\n",
       "      <td>normal</td>\n",
       "    </tr>\n",
       "    <tr>\n",
       "      <th>2</th>\n",
       "      <td>200003.jpg</td>\n",
       "      <td>blast</td>\n",
       "    </tr>\n",
       "    <tr>\n",
       "      <th>3</th>\n",
       "      <td>200004.jpg</td>\n",
       "      <td>blast</td>\n",
       "    </tr>\n",
       "    <tr>\n",
       "      <th>4</th>\n",
       "      <td>200005.jpg</td>\n",
       "      <td>blast</td>\n",
       "    </tr>\n",
       "  </tbody>\n",
       "</table>\n",
       "</div>"
      ],
      "text/plain": [
       "     image_id   label\n",
       "0  200001.jpg   hispa\n",
       "1  200002.jpg  normal\n",
       "2  200003.jpg   blast\n",
       "3  200004.jpg   blast\n",
       "4  200005.jpg   blast"
      ]
     },
     "execution_count": 19,
     "metadata": {},
     "output_type": "execute_result"
    }
   ],
   "source": [
    "## Matching Predictions with Correct Image ID\n",
    "train_data, _ = generate_augmented_images(\n",
    "    batch_size, img_size)\n",
    "pred = tta_prediction(model, batch_size, img_size)\n",
    "y_predict_max = np.argmax(pred, axis=1)\n",
    "\n",
    "inverse_map = {v: k for k, v in train_data.class_indices.items()}\n",
    "\n",
    "predictions = [inverse_map[k] for k in y_predict_max]\n",
    "test_data = generate_augmented_test(batch_size, img_size)\n",
    "files = test_data.filenames\n",
    "\n",
    "results = pd.DataFrame({\"image_id\": files, \"label\": predictions})\n",
    "results.image_id = results.image_id.apply(lambda x: x[2:])\n",
    "results.to_csv(\"submission.csv\", index=False)\n",
    "results.head()"
   ]
  }
 ],
 "metadata": {
  "kernelspec": {
   "display_name": "Python 3",
   "language": "python",
   "name": "python3"
  },
  "language_info": {
   "codemirror_mode": {
    "name": "ipython",
    "version": 3
   },
   "file_extension": ".py",
   "mimetype": "text/x-python",
   "name": "python",
   "nbconvert_exporter": "python",
   "pygments_lexer": "ipython3",
   "version": "3.10.5"
  },
  "orig_nbformat": 4,
  "vscode": {
   "interpreter": {
    "hash": "fbe18edc02b0afde77b04389e793eee95343ecfd029af9658c775aaa40a68cc8"
   }
  }
 },
 "nbformat": 4,
 "nbformat_minor": 2
}
